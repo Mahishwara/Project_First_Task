{
 "nbformat": 4,
 "nbformat_minor": 0,
 "metadata": {
  "colab": {
   "provenance": []
  },
  "kernelspec": {
   "name": "python3",
   "display_name": "Python 3"
  },
  "language_info": {
   "name": "python"
  }
 },
 "cells": [
  {
   "cell_type": "markdown",
   "source": [
    "<h1>Импорт библиотек"
   ],
   "metadata": {
    "id": "vC84e9kzyxPy",
    "pycharm": {
     "name": "#%% md\n"
    }
   }
  },
  {
   "cell_type": "code",
   "execution_count": 2,
   "metadata": {
    "id": "cgKeNegmQG5S",
    "pycharm": {
     "name": "#%%\n"
    }
   },
   "outputs": [],
   "source": [
    "import numpy as np\n",
    "import matplotlib.pyplot as plt"
   ]
  },
  {
   "cell_type": "markdown",
   "source": [
    "<h1>Задача 1. Дан набор из $p$ матриц размерностью $(n, n)$ и $p$ векторов размерностью $(n, 1)$, найти сумму произведений матриц на векторы. Написать тесты для кода"
   ],
   "metadata": {
    "id": "qFM9uVU2x4Ls",
    "pycharm": {
     "name": "#%% md\n"
    }
   }
  },
  {
   "cell_type": "code",
   "source": [
    "def sum_prod(X, V):\n",
    "    '''\n",
    "    X - матрицы (n, n)\n",
    "    V - векторы (n, 1)\n",
    "    Гарантируется, что len(X) == len(V)\n",
    "    '''\n",
    "    matrixes = [np.array(i) for i in X]\n",
    "    vectors = [np.array(i) for i in V]\n",
    "    result = 0\n",
    "    for k in range(len(matrixes)):\n",
    "        result += sum(np.dot(matrixes[k], vectors[k]))\n",
    "    return result\n",
    "\n",
    "\n",
    "def test_1_1():\n",
    "    assert sum_prod([[[4, 5],[6, 7], [8, 9]]], [[1, 2]]) == 60\n",
    "\n",
    "\n",
    "def test_1_2():\n",
    "    assert sum_prod([[[1, 2],[3, 4], [5, 6]], [[4, 5],[6, 7], [8, 9]]], [[7, 8], [1, 2]]) == 219\n",
    "\n",
    "\n",
    "print(sum_prod([[[1, 2],[3, 4], [5, 6]], [[4, 5],[6, 7], [8, 9]]], [[7, 8], [1, 2]]))"
   ],
   "metadata": {
    "id": "IAbUvEiYyWFF",
    "pycharm": {
     "name": "#%%\n"
    }
   },
   "execution_count": 3,
   "outputs": [
    {
     "name": "stdout",
     "output_type": "stream",
     "text": [
      "219\n"
     ]
    }
   ]
  },
  {
   "cell_type": "markdown",
   "source": [
    "<h1>Задача 2. Дана матрица M, напишите функцию, которая бинаризует матрицу по некоторому threshold (то есть, все значения большие threshold становятся равными 1, иначе 0). Напишите тесты для кода"
   ],
   "metadata": {
    "id": "TKwPG4fIy2w4",
    "pycharm": {
     "name": "#%% md\n"
    }
   }
  },
  {
   "cell_type": "code",
   "source": [
    "def binarize(M, threshold=0.5):\n",
    "    M = np.array(M)\n",
    "    return np.where(M > threshold, 1, 0)\n",
    "\n",
    "\n",
    "def test_2_1():\n",
    "    assert binarize([[1, 0.25], [2, 0.1]]) == [[1, 0], [1, 0]]\n",
    "\n",
    "\n",
    "def test_2_2():\n",
    "    assert  binarize([[2, 1], [3, -1]], 2) == [[0, 0], [1, 0]]\n",
    "print(binarize([[1, 0.25], [2, 0.1]], 0.5))"
   ],
   "metadata": {
    "id": "KQDNMgsjRNH7",
    "pycharm": {
     "name": "#%%\n"
    }
   },
   "execution_count": 4,
   "outputs": [
    {
     "name": "stdout",
     "output_type": "stream",
     "text": [
      "[[1 0]\n",
      " [1 0]]\n"
     ]
    }
   ]
  },
  {
   "cell_type": "markdown",
   "source": [
    "<h1>Задача 3. Напишите функцию, которая возвращает уникальные элементы из каждой строки матрицы. Напишите такую же функцию, но для столбцов. Напишите тесты для кода"
   ],
   "metadata": {
    "id": "IY5L-h-7zWhN",
    "pycharm": {
     "name": "#%% md\n"
    }
   }
  },
  {
   "cell_type": "code",
   "source": [
    "def unique_rows(mat):\n",
    "    return [[j for j in np.unique(i)] for i in mat]\n",
    "\n",
    "def unique_columns(mat):\n",
    "    return [[j for j in np.unique(i)] for i in np.array(mat).transpose()]\n",
    "\n",
    "\n",
    "def test_3_1():\n",
    "    assert unique_rows([[1, 1,1], [2, 2, 2], [3, 3, 3]]) == [[1], [2], [3]]\n",
    "\n",
    "\n",
    "def test_3_2():\n",
    "    assert unique_columns([[1, 2, 3], [1, 2, 3], [1, 2, 3]]) == [[1], [2], [3]]"
   ],
   "metadata": {
    "id": "-8dEZhR0SBC-",
    "pycharm": {
     "name": "#%%\n"
    }
   },
   "execution_count": 5,
   "outputs": []
  },
  {
   "cell_type": "markdown",
   "source": [
    "<h1>Задача 4. Напишите функцию, которая заполняет матрицу с размерами $(m, n)$ случайными числами, распределенными по нормальному закону. Затем считает мат. ожидание и дисперсию для каждого из столбцов и строк, а также строит для каждой строки и столбца гистограмму значений (использовать функцию hist из модуля matplotlib.plot)"
   ],
   "metadata": {
    "id": "roYAlo4Jz-lH",
    "pycharm": {
     "name": "#%% md\n"
    }
   }
  },
  {
   "cell_type": "code",
   "source": [
    "def get_matrix(m, n):\n",
    "    matrix = np.random.normal(size=(m, n))\n",
    "    meanrows = np.mean(matrix, axis=1)\n",
    "    meancolomns = np.mean(matrix, axis=0)\n",
    "    varrows = np.var(matrix, axis=1)\n",
    "    varcolomns = np.var(matrix, axis=0)\n",
    "    for i in range(m):\n",
    "        ax = plt.subplot(m, n, i + 1)\n",
    "        ax.hist(matrix[i], edgecolor = 'black', bins=180)\n",
    "        ax.set_title(f'Histogram of row {i + 1}')\n",
    "        ax.set_xlabel('Value')\n",
    "        ax.set_ylabel('Frequency')\n",
    "    plt.tight_layout()\n",
    "    plt.show()\n",
    "    for i in range(n):\n",
    "        ay = plt.subplot(n, m, i + 1)\n",
    "        ay.hist(matrix.transpose()[i], edgecolor = 'black', bins=180)\n",
    "        ay.set_title(f'Histogram of colomn {i + 1}')\n",
    "        ay.set_xlabel('Value')\n",
    "        ay.set_ylabel('Frequency')\n",
    "    plt.tight_layout()\n",
    "    plt.show()\n",
    "    return meanrows, meancolomns, varrows, varcolomns\n",
    "\n",
    "get_matrix(3, 3)"
   ],
   "metadata": {
    "id": "nZK_71hMSQzv",
    "pycharm": {
     "name": "#%%\n"
    }
   },
   "execution_count": 6,
   "outputs": [
    {
     "data": {
      "text/plain": "<Figure size 640x480 with 3 Axes>",
      "image/png": "[encoded data removed]"
     },
     "metadata": {},
     "output_type": "display_data"
    },
    {
     "data": {
      "text/plain": "<Figure size 640x480 with 3 Axes>",
      "image/png": "[encoded data removed]"
     },
     "metadata": {},
     "output_type": "display_data"
    },
    {
     "data": {
      "text/plain": "(array([0.24542156, 1.27303844, 0.75321228]),\n array([1.35695604, 0.03056255, 0.88415369]),\n array([0.75626671, 0.09721693, 0.6994664 ]),\n array([0.00993386, 0.39028259, 0.77692942]))"
     },
     "execution_count": 6,
     "metadata": {},
     "output_type": "execute_result"
    }
   ]
  },
  {
   "cell_type": "markdown",
   "source": [
    "<h1>Задача 5. Напишите функцию, которая заполняет матрицу $(m, n)$ в шахматном порядке заданными числами $a$ и $b$. Напишите тесты для кода"
   ],
   "metadata": {
    "id": "BDyATNdM0dJ2",
    "pycharm": {
     "name": "#%% md\n"
    }
   }
  },
  {
   "cell_type": "code",
   "source": [
    "def chess(m, n, a, b):\n",
    "    arr = np.zeros((m, n), dtype=int)\n",
    "    arr[1::2, 1::2] = 1\n",
    "    arr[::2,::2] = 1\n",
    "    return np.where(arr == 1, a, b)\n",
    "\n",
    "\n",
    "def test_5_1():\n",
    "    assert chess(2, 2, 1, 0) == [[1, 0, 1, 0], [0, 1, 0, 1], [1, 0, 1, 0], [0, 1, 0, 1]]\n",
    "\n",
    "\n",
    "\n",
    "def test_5_2():\n",
    "    assert chess(3, 2, 2, 3) == [[2, 3, 2, 3], [3, 2, 3, 2], [2, 3, 2, 3]]\n",
    "\n",
    "print(chess(2, 2, 2, 3))"
   ],
   "metadata": {
    "id": "RWNJYWQGecS6",
    "pycharm": {
     "name": "#%%\n"
    }
   },
   "execution_count": 16,
   "outputs": [
    {
     "name": "stdout",
     "output_type": "stream",
     "text": [
      "[[2 3]\n",
      " [3 2]]\n"
     ]
    }
   ]
  },
  {
   "cell_type": "markdown",
   "source": [
    "<h1>Задача 6. Напишите функцию, которая отрисовывает прямоугольник с заданными размерами (a, b) на изображении размера (m, n), цвет фона задайте в схеме RGB, как и цвет прямоугольника. Цвета также должны быть параметрами функции. Напишите аналогичную функцию но для овала с полуосями a и b. Напишите тесты для кода.\n",
    "Примечание: уравнение эллипса (границы овала) можно записать как:\n",
    "<h1>$\\frac{(x-x_0)^2}{a^2}+\\frac{(y-y_0)^2}{b^2}=1$"
   ],
   "metadata": {
    "id": "-ymXLtTN0vB6",
    "pycharm": {
     "name": "#%% md\n"
    }
   }
  },
  {
   "cell_type": "code",
   "source": [
    "from matplotlib.patches import Rectangle, Ellipse\n",
    "\n",
    "\n",
    "def draw_rectangle(a, b, m, n, rectangle_color, background_color):\n",
    "    ig, ax = plt.subplots()\n",
    "    ax.plot(m, n)\n",
    "    ax.set_facecolor(background_color)\n",
    "    ax.add_patch (Rectangle((0, 0), a, b, color=rectangle_color, fill=True))\n",
    "\n",
    "\n",
    "def draw_ellipse(a, b, m, n, ellipse_color, background_color):\n",
    "    ig, ax = plt.subplots()\n",
    "    ax.plot(m, n)\n",
    "    ax.set_facecolor(background_color)\n",
    "    ax.add_patch (Ellipse((0, 0), a, b, color=ellipse_color, fill=True))\n",
    "    pass\n",
    "\n",
    "draw_rectangle(150, 150, 200, 200, (0, 0, 0), (0.5, 0.1, 1))\n",
    "draw_ellipse(150, 100, 200, 200, (0, 0, 0), (0.5, 0.1, 1))"
   ],
   "metadata": {
    "id": "sNfl1t_kfOF4",
    "pycharm": {
     "name": "#%%\n"
    }
   },
   "execution_count": 8,
   "outputs": [
    {
     "data": {
      "text/plain": "<Figure size 640x480 with 1 Axes>",
      "image/png": "[encoded data removed]"
     },
     "metadata": {},
     "output_type": "display_data"
    },
    {
     "data": {
      "text/plain": "<Figure size 640x480 with 1 Axes>",
      "image/png": "[encoded data removed]"
     },
     "metadata": {},
     "output_type": "display_data"
    }
   ]
  },
  {
   "cell_type": "markdown",
   "source": [
    "<h1>Задача 7. Дан некий временной ряд. Для данного ряда нужно найти его: математическое ожидание, дисперсию, СКО, найти все локальные максимумы и минимумы (локальный максимум - это точка, которая больше своих соседних точек, а локальный минимум - это точка, которая меньше своих соседей), а также вычислить для данного ряда другой ряд, получаемый методом скользящего среднего с размером окна $p$.\n",
    "<h1>Примечание: метод скользящего среднего подразумевает нахождение среднего из подмножетсва ряда размером $p$"
   ],
   "metadata": {
    "id": "S82c38oz244H",
    "pycharm": {
     "name": "#%% md\n"
    }
   }
  },
  {
   "cell_type": "code",
   "source": [
    "def get_data(array, window_size):\n",
    "    array = np.array(array)\n",
    "    mean_value = np.mean(array)\n",
    "    var_value = np.var(array)\n",
    "    std_value = np.std(array)\n",
    "    maxs = np.r_[True, array[1:] > array[:-1]] & np.r_[array[:-1] > array[1:], True]\n",
    "    mins = np.r_[True, array[1:] < array[:-1]] & np.r_[array[:-1] < array[1:], True]\n",
    "    i = 0\n",
    "    moving_averages = []\n",
    "    while i < len(array) - window_size + 1:\n",
    "        window_average = round(np.sum(array[i:i+window_size]) / window_size, 2)\n",
    "        moving_averages.append(window_average)\n",
    "        i += 1\n",
    "    return mean_value, var_value, std_value, maxs, mins, moving_averages"
   ],
   "metadata": {
    "id": "Zb9mIVge5MMt",
    "pycharm": {
     "name": "#%%\n"
    }
   },
   "execution_count": 9,
   "outputs": []
  },
  {
   "cell_type": "markdown",
   "source": [
    "<h1> Задача 8. Дан некоторый вектор с целочисленными метками классов, напишите функцию, которая выполняет one-hot-encoding для данного вектора\n",
    "<h1> One-hot-encoding - представление, в котором на месте метки некоторого класса стоит 1, в остальных позициях стоит 0. Например для вектора [0, 2, 3, 0] one-hot-encoding выглядит как: [[1, 0, 0, 0], [0, 0, 1, 0], [0, 0, 0, 1], [1, 0, 0, 0]]"
   ],
   "metadata": {
    "id": "jPkylmOX5O9n",
    "pycharm": {
     "name": "#%% md\n"
    }
   }
  },
  {
   "cell_type": "code",
   "source": [
    "def one_hot_encoding(array):\n",
    "    a = np.array(array)\n",
    "    b = np.zeros((a.size, a.max() + 1))\n",
    "    b[np.arange(a.size), a] = 1\n",
    "    return b\n",
    "\n",
    "\n",
    "print(one_hot_encoding([0,2,3,0]))"
   ],
   "metadata": {
    "id": "Y-jlnZvw56lD",
    "pycharm": {
     "name": "#%%\n"
    }
   },
   "execution_count": 10,
   "outputs": [
    {
     "name": "stdout",
     "output_type": "stream",
     "text": [
      "[[1. 0. 0. 0.]\n",
      " [0. 0. 1. 0.]\n",
      " [0. 0. 0. 1.]\n",
      " [1. 0. 0. 0.]]\n"
     ]
    }
   ]
  }
 ]
}