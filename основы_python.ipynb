{
 "nbformat": 4,
 "nbformat_minor": 0,
 "metadata": {
  "colab": {
   "provenance": []
  },
  "kernelspec": {
   "name": "python3",
   "display_name": "Python 3"
  },
  "language_info": {
   "name": "python"
  }
 },
 "cells": [
  {
   "cell_type": "markdown",
   "source": [
    "#Задача 1\n",
    "Написать функцию на вход которой подается строка, состоящая из латинских букв.\n",
    "Функция должна вернуть количество гласных букв (a, e, i, o, u) в этой строке. Написать тесты для кода"
   ],
   "metadata": {
    "id": "M-DGa20PaHnu",
    "pycharm": {
     "name": "#%% md\n"
    }
   }
  },
  {
   "cell_type": "code",
   "source": [
    "\n",
    "def counter(text):\n",
    "    text = text.lower()\n",
    "    return sum([text.count(i.lower()) for i in ['a', 'e', 'i', 'o', 'u']])\n",
    "\n",
    "\n",
    "def test_1():\n",
    "    assert counter('aAeEiIoOuU') == 10\n",
    "\n",
    "\n",
    "def test_2():\n",
    "    assert counter('eyuiqwrtpsdfghjklzxcvbnm') == 3"
   ],
   "metadata": {
    "id": "XvX8X_JJ6PCb",
    "pycharm": {
     "name": "#%%\n"
    }
   },
   "execution_count": 4,
   "outputs": []
  },
  {
   "cell_type": "markdown",
   "source": [
    "# Задача 2\n",
    "Написать функцию на вход, которой подается строка. Функция должна вернуть true, если\n",
    "каждый символ в строке встречается только 1 раз, иначе должна вернуть false. Написать тесты для кода"
   ],
   "metadata": {
    "id": "t2ClV_Y0bbr6",
    "pycharm": {
     "name": "#%% md\n"
    }
   }
  },
  {
   "cell_type": "code",
   "source": [
    "def isUnique(text):\n",
    "    return len(set(text.lower())) == len(text)\n",
    "\n",
    "\n",
    "# Тест с ошибкой\n",
    "def test_3():\n",
    "    assert isUnique('aAeEiIoOuU') == False\n",
    "\n",
    "\n",
    "def test_4():\n",
    "    assert isUnique('qwertyuiopasdfghjklzxcvbnm') == True"
   ],
   "metadata": {
    "id": "FppbECao6VIz",
    "pycharm": {
     "name": "#%%\n"
    }
   },
   "execution_count": 5,
   "outputs": []
  },
  {
   "cell_type": "markdown",
   "source": [
    "# Задача 3\n",
    "Написать функцию, которая принимает положительное число и возвращает количество\n",
    "бит равных 1 в этом числе. Написать тесты для кода"
   ],
   "metadata": {
    "id": "udRiIK1cdt6E",
    "pycharm": {
     "name": "#%% md\n"
    }
   }
  },
  {
   "cell_type": "code",
   "source": [
    "def count_bit_in_number(number):\n",
    "    return(bin(number).count('1'))\n",
    "\n",
    "\n",
    "def test_3_1(number):\n",
    "    assert count_bit_in_number(2) == 0\n",
    "\n",
    "\n",
    "def test_3_2(number):\n",
    "    assert count_bit_in_number(15) == 4"
   ],
   "metadata": {
    "id": "6tkfDJRz6dp_",
    "pycharm": {
     "name": "#%%\n"
    }
   },
   "execution_count": 12,
   "outputs": [
    {
     "name": "stdout",
     "output_type": "stream",
     "text": [
      "4\n"
     ]
    }
   ]
  },
  {
   "cell_type": "markdown",
   "source": [
    "# Задача 4\n",
    "Написать функцию, которая принимает положительное число. Функция должна вернуть то,\n",
    "сколько раз необходимо перемножать цифры числа или результат перемножения, чтобы\n",
    "получилось число состоящее из одной цифры.\n",
    "Например, для входного числа:\n",
    "· 39 функция должна вернуть 3, так как 3*9=27 => 2*7=14 => 1*4=4\n",
    "· 4 функция должна вернуть 0, так как число уже состоит из одной цифры\n",
    "· 999 функция должна вернуть 4, так как 9*9*9=729 => 7*2*9=126 => 1*2*6=12 =>\n",
    "1*2=2. Написать тесты для кода"
   ],
   "metadata": {
    "id": "26dDUz-Ae17N",
    "pycharm": {
     "name": "#%% md\n"
    }
   }
  },
  {
   "cell_type": "code",
   "source": [
    "def magic(n):\n",
    "    result = 0\n",
    "    if len(str(n)) <= 1:\n",
    "        return result\n",
    "    while len(str(n)) > 1:\n",
    "        result += 1\n",
    "        new_n = 1\n",
    "        for i in range(len(str(n))):\n",
    "            new_n *= n % 10\n",
    "            n //= 10\n",
    "        n = new_n\n",
    "    return result\n",
    "\n",
    "\n",
    "def test_4_1():\n",
    "    assert magic(39) == 3\n",
    "\n",
    "\n",
    "def test_4_2():\n",
    "    assert magic(4) == 0\n",
    "\n",
    "\n",
    "def test_4_3():\n",
    "    assert magic(999) == 4"
   ],
   "metadata": {
    "id": "BH1A_Mgi6i4G",
    "pycharm": {
     "name": "#%%\n"
    }
   },
   "execution_count": 16,
   "outputs": [
    {
     "name": "stdout",
     "output_type": "stream",
     "text": [
      "4\n"
     ]
    }
   ]
  },
  {
   "cell_type": "markdown",
   "source": [
    "# Задача 5\n",
    "Написать функцию, которая принимает два целочисленных вектора одинаковой длины и\n",
    "возвращает среднеквадратическое отклонение двух векторов. Написать тесты для кода"
   ],
   "metadata": {
    "id": "0nS-kIa8g8vd",
    "pycharm": {
     "name": "#%% md\n"
    }
   }
  },
  {
   "cell_type": "code",
   "source": [
    "import numpy as np\n",
    "\n",
    "def mse(pred, true):\n",
    "    true, pred = np.array(true), np.array(pred)\n",
    "    return np.square(np.subtract(true, pred)).mean()\n",
    "\n",
    "\n",
    "def test_5_1():\n",
    "    assert mse([12, 13, 14, 15, 15, 22, 27], [11, 13, 14, 14, 15, 16, 18]) == 17.0\n",
    "\n",
    "\n",
    "def test_5_2():\n",
    "    assert mse([8, 20, 10, 22], [9, 21, 11, 23]) == 1.0"
   ],
   "metadata": {
    "id": "8iphx4LM6xbx",
    "pycharm": {
     "name": "#%%\n"
    }
   },
   "execution_count": 20,
   "outputs": [
    {
     "name": "stdout",
     "output_type": "stream",
     "text": [
      "1.0\n"
     ]
    }
   ]
  },
  {
   "cell_type": "markdown",
   "source": [
    "# Задача 6\n",
    "Написать функцию, принимающая целое положительное число. Функция должна вернуть\n",
    "строку вида “(n1**p1)(n2**p2)…(nk**pk)” представляющая разложение числа на простые\n",
    "множители (если pi == 1, то выводить только ni).\n",
    "Например, для числа 86240 функция должна вернуть “(2**5)(5)(7**2)(11)”. Написать тесты для кода"
   ],
   "metadata": {
    "id": "vpIPKL439zkw",
    "pycharm": {
     "name": "#%% md\n"
    }
   }
  },
  {
   "cell_type": "code",
   "source": [
    "def decomposePrime(n):\n",
    "    primenumbers = {}\n",
    "    i = 1\n",
    "    while n > 1:\n",
    "        i += 1\n",
    "        if i != 2 and i % 2 == 0:\n",
    "            continue\n",
    "        primenumbers[i] = 0\n",
    "        while n % i == 0:\n",
    "            n //= i\n",
    "            primenumbers[i] += 1\n",
    "    result = ''\n",
    "    for i in [(key, value) for key, value in primenumbers.items() if value > 0]:\n",
    "        result += f'({i[0]}**{i[1]})'\n",
    "    return result\n",
    "\n",
    "\n",
    "def test_6_1():\n",
    "    assert decomposePrime(86240) == \"(2**5)(5**1)(7**2)(11**1)\"\n",
    "\n",
    "\n",
    "def test_6_2():\n",
    "    assert decomposePrime(15) == \"(3**1)(5**1)\"\n",
    "\n",
    "\n",
    "def test_6_3():\n",
    "    assert decomposePrime(32) == \"(2**5)\"\n"
   ],
   "metadata": {
    "id": "pFebmcZk94Jw",
    "pycharm": {
     "name": "#%%\n"
    }
   },
   "execution_count": 18,
   "outputs": [
    {
     "name": "stdout",
     "output_type": "stream",
     "text": [
      "(2**5)\n"
     ]
    }
   ]
  },
  {
   "cell_type": "markdown",
   "source": [
    "# Задача 7\n",
    "Написать функцию, принимающая целое число n, задающее количество кубиков. Функция\n",
    "должна определить, можно ли из данного кол-ва кубиков построить пирамиду, то есть\n",
    "можно ли представить число n как 1^2+2^2+3^2+…+k^2. Если можно, то функция должна\n",
    "вернуть k, иначе строку “It is impossible”. Написать тесты для кода"
   ],
   "metadata": {
    "id": "ps2s0BudX7A2",
    "pycharm": {
     "name": "#%% md\n"
    }
   }
  },
  {
   "cell_type": "code",
   "source": [
    "def pyramid(number):\n",
    "    k = 0\n",
    "    while number > 0:\n",
    "        k += 1\n",
    "        number -= k**2\n",
    "    if number == 0:\n",
    "        return k\n",
    "    return \"It is impossible\"\n",
    "\n",
    "\n",
    "\n",
    "def test_7_1_can():\n",
    "    assert pyramid(14) == 3\n",
    "\n",
    "\n",
    "def test_7_2_impossible():\n",
    "    assert pyramid(0) == \"It is impossible\"\n",
    "\n",
    "\n",
    "def test_7_3_can():\n",
    "    assert pyramid(140) == 7\n",
    "\n",
    "\n",
    "def test_7_4_impossible():\n",
    "    assert pyramid(163) == \"It is impossible\""
   ],
   "metadata": {
    "id": "3YPjEXxhX_YT",
    "pycharm": {
     "name": "#%%\n"
    }
   },
   "execution_count": 5,
   "outputs": [
    {
     "name": "stdout",
     "output_type": "stream",
     "text": [
      "It is impossible\n"
     ]
    }
   ]
  },
  {
   "cell_type": "markdown",
   "source": [
    "# Задача 8\n",
    "Функция принимает на вход положительное число и определяет является ли оно сбалансированным, т.е. сумма цифр до средних равна сумме цифр после. Средними в случае нечетного числа цифр считать одну цифру, в случае четного - две средних. Написать тесты для кода"
   ],
   "metadata": {
    "id": "KeKgmIdAQMEJ",
    "pycharm": {
     "name": "#%% md\n"
    }
   }
  },
  {
   "cell_type": "code",
   "source": [
    "def check_balance(number):\n",
    "    number = str(number)\n",
    "    l = len(number)//2\n",
    "    return sum(map(int,number[0:l]))==sum(map(int,number[-1:-1-l:-1]))\n",
    "\n",
    "def test_8_1():\n",
    "    assert check_balance(123321) == True\n",
    "\n",
    "\n",
    "def test_8_2():\n",
    "    assert check_balance(133321) == False\n",
    "\n",
    "\n",
    "def test_8_3():\n",
    "    assert check_balance(121) == True"
   ],
   "metadata": {
    "id": "gMAAqtqlQrZt",
    "pycharm": {
     "name": "#%%\n"
    }
   },
   "execution_count": 19,
   "outputs": [
    {
     "name": "stdout",
     "output_type": "stream",
     "text": [
      "True\n"
     ]
    }
   ]
  }
 ]
}